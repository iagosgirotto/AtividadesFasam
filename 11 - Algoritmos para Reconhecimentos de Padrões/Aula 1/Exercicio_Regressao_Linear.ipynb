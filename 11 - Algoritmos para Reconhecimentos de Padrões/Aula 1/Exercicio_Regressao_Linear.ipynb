{
 "metadata": {
  "language_info": {
   "codemirror_mode": {
    "name": "ipython",
    "version": 3
   },
   "file_extension": ".py",
   "mimetype": "text/x-python",
   "name": "python",
   "nbconvert_exporter": "python",
   "pygments_lexer": "ipython3",
   "version": "3.7.6-final"
  },
  "orig_nbformat": 2,
  "kernelspec": {
   "name": "python3",
   "display_name": "Python 3.7.6 64-bit (conda)",
   "metadata": {
    "interpreter": {
     "hash": "4980b6b58d45be1f76fdcad349a71241a11e0eb1c1a544c4bc09b4f1a87a9963"
    }
   }
  }
 },
 "nbformat": 4,
 "nbformat_minor": 2,
 "cells": [
  {
   "cell_type": "code",
   "execution_count": 1,
   "metadata": {},
   "outputs": [],
   "source": [
    "#Importação dos recursos necessários\n",
    "from sklearn.datasets import load_boston\n",
    "from sklearn.model_selection import train_test_split\n",
    "from sklearn.linear_model import LinearRegression\n",
    "from sklearn.metrics import mean_squared_error, r2_score\n",
    "import numpy as np"
   ]
  },
  {
   "cell_type": "code",
   "execution_count": 2,
   "metadata": {},
   "outputs": [],
   "source": [
    "#Carregando os dados disponíveis na biblioteca scikitlearn\n",
    "data = load_boston()\n",
    "\n",
    "#Separando conjuntos de treino e teste\n",
    "x_train, x_test, y_train_labels, y_test_labels = train_test_split(data.data, data.target, test_size=0.33, random_state=42)"
   ]
  },
  {
   "cell_type": "code",
   "execution_count": 3,
   "metadata": {},
   "outputs": [
    {
     "output_type": "stream",
     "name": "stdout",
     "text": [
      "28.53469468972978\n"
     ]
    }
   ],
   "source": [
    "#Criando e treinando o modelo\n",
    "gnb = LinearRegression()\n",
    "model = gnb.fit(x_train, y_train_labels)\n",
    "\n",
    "#Fazendo predições\n",
    "preds = gnb.predict(x_test)\n",
    "print(preds[0])"
   ]
  },
  {
   "cell_type": "code",
   "execution_count": 4,
   "metadata": {},
   "outputs": [
    {
     "output_type": "stream",
     "name": "stdout",
     "text": [
      "Valor de MSE: 4.552364598463056\nValor de R2: 0.7261570836552484\n"
     ]
    }
   ],
   "source": [
    "#Avaliando o modelo\n",
    "rmse = (np.sqrt(mean_squared_error(y_test_labels, preds)))\n",
    "print('Valor de MSE:', rmse)\n",
    "\n",
    "r2 = r2_score(y_test_labels, preds)\n",
    "print('Valor de R2:', r2)"
   ]
  }
 ]
}