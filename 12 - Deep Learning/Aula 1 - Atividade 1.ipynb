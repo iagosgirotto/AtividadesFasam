{
  "nbformat": 4,
  "nbformat_minor": 0,
  "metadata": {
    "colab": {
      "name": "Cópia de Aula 1 -  Atividade 1.ipynb",
      "provenance": []
    },
    "kernelspec": {
      "name": "python3",
      "display_name": "Python 3"
    },
    "accelerator": "GPU"
  },
  "cells": [
    {
      "cell_type": "code",
      "metadata": {
        "id": "ju9LGBN1I9pq"
      },
      "source": [
        "import tensorflow as tf"
      ],
      "execution_count": 1,
      "outputs": []
    },
    {
      "cell_type": "code",
      "metadata": {
        "colab": {
          "base_uri": "https://localhost:8080/"
        },
        "id": "0yaECHg6gAc0",
        "outputId": "ca73087d-9e73-4516-ee18-6cdea6a39c50"
      },
      "source": [
        "#verificar se GPU está ativa\n",
        "tf.config.list_physical_devices('GPU')"
      ],
      "execution_count": 2,
      "outputs": [
        {
          "output_type": "execute_result",
          "data": {
            "text/plain": [
              "[PhysicalDevice(name='/physical_device:GPU:0', device_type='GPU')]"
            ]
          },
          "metadata": {
            "tags": []
          },
          "execution_count": 2
        }
      ]
    },
    {
      "cell_type": "code",
      "metadata": {
        "colab": {
          "base_uri": "https://localhost:8080/"
        },
        "id": "QcP552EyhwU4",
        "outputId": "999b26f9-7b1f-455d-8be5-882392120e19"
      },
      "source": [
        "!nvidia-smi"
      ],
      "execution_count": 3,
      "outputs": [
        {
          "output_type": "stream",
          "text": [
            "Sat May  8 22:33:44 2021       \n",
            "+-----------------------------------------------------------------------------+\n",
            "| NVIDIA-SMI 465.19.01    Driver Version: 460.32.03    CUDA Version: 11.2     |\n",
            "|-------------------------------+----------------------+----------------------+\n",
            "| GPU  Name        Persistence-M| Bus-Id        Disp.A | Volatile Uncorr. ECC |\n",
            "| Fan  Temp  Perf  Pwr:Usage/Cap|         Memory-Usage | GPU-Util  Compute M. |\n",
            "|                               |                      |               MIG M. |\n",
            "|===============================+======================+======================|\n",
            "|   0  Tesla T4            Off  | 00000000:00:04.0 Off |                    0 |\n",
            "| N/A   43C    P8    10W /  70W |      3MiB / 15109MiB |      0%      Default |\n",
            "|                               |                      |                  N/A |\n",
            "+-------------------------------+----------------------+----------------------+\n",
            "                                                                               \n",
            "+-----------------------------------------------------------------------------+\n",
            "| Processes:                                                                  |\n",
            "|  GPU   GI   CI        PID   Type   Process name                  GPU Memory |\n",
            "|        ID   ID                                                   Usage      |\n",
            "|=============================================================================|\n",
            "|  No running processes found                                                 |\n",
            "+-----------------------------------------------------------------------------+\n"
          ],
          "name": "stdout"
        }
      ]
    },
    {
      "cell_type": "markdown",
      "metadata": {
        "id": "J8bBqhb_gx4L"
      },
      "source": [
        "# **Exercícios - Conceitos fundamentais de Deep Learning e CNN utilizando MNIST e Keras**\n",
        "\n"
      ]
    },
    {
      "cell_type": "markdown",
      "metadata": {
        "id": "XtIr8_WT9lpf"
      },
      "source": [
        "## Revisando MLP e entendendo conceitos básicos\n",
        "\n",
        "\n"
      ]
    },
    {
      "cell_type": "code",
      "metadata": {
        "id": "uicC813nlK-T"
      },
      "source": [
        "import tensorflow as tf \n",
        "from tensorflow.keras.datasets import mnist\n",
        "from tensorflow.keras.models import Sequential\n",
        "from tensorflow.keras.layers import Conv2D, Dense, MaxPool2D, GlobalAveragePooling2D, Flatten\n",
        "from tensorflow.keras.optimizers import Adam, RMSprop, SGD, Adadelta\n",
        "\n",
        "import numpy as np"
      ],
      "execution_count": 4,
      "outputs": []
    },
    {
      "cell_type": "code",
      "metadata": {
        "id": "vvR9LVHZlO8e"
      },
      "source": [
        "#Parâmetros de treinamento\n",
        "batch_size = 32\n",
        "epochs = 10\n",
        "num_classes = 10"
      ],
      "execution_count": 5,
      "outputs": []
    },
    {
      "cell_type": "code",
      "metadata": {
        "id": "UnQpCr-138FA",
        "colab": {
          "base_uri": "https://localhost:8080/"
        },
        "outputId": "ba564e87-d987-46a5-be67-7d0a9840461b"
      },
      "source": [
        "(x_train, y_train), (x_test, y_test) = mnist.load_data()"
      ],
      "execution_count": 6,
      "outputs": [
        {
          "output_type": "stream",
          "text": [
            "Downloading data from https://storage.googleapis.com/tensorflow/tf-keras-datasets/mnist.npz\n",
            "11493376/11490434 [==============================] - 0s 0us/step\n"
          ],
          "name": "stdout"
        }
      ]
    },
    {
      "cell_type": "code",
      "metadata": {
        "id": "pqwzpVw14BqA",
        "colab": {
          "base_uri": "https://localhost:8080/"
        },
        "outputId": "43958015-6fda-4997-a6d0-c6f18d88f486"
      },
      "source": [
        "x_train = x_train.astype('float32')\n",
        "x_test = x_test.astype('float32')\n",
        "print(x_train.shape)\n",
        "print(x_test.shape)"
      ],
      "execution_count": 7,
      "outputs": [
        {
          "output_type": "stream",
          "text": [
            "(60000, 28, 28)\n",
            "(10000, 28, 28)\n"
          ],
          "name": "stdout"
        }
      ]
    },
    {
      "cell_type": "code",
      "metadata": {
        "id": "Rg1w_XwXO-ED",
        "colab": {
          "base_uri": "https://localhost:8080/"
        },
        "outputId": "907a2aab-1a45-425a-8278-1b6f896738cb"
      },
      "source": [
        "x_train[0, :, :]"
      ],
      "execution_count": 8,
      "outputs": [
        {
          "output_type": "execute_result",
          "data": {
            "text/plain": [
              "array([[  0.,   0.,   0.,   0.,   0.,   0.,   0.,   0.,   0.,   0.,   0.,\n",
              "          0.,   0.,   0.,   0.,   0.,   0.,   0.,   0.,   0.,   0.,   0.,\n",
              "          0.,   0.,   0.,   0.,   0.,   0.],\n",
              "       [  0.,   0.,   0.,   0.,   0.,   0.,   0.,   0.,   0.,   0.,   0.,\n",
              "          0.,   0.,   0.,   0.,   0.,   0.,   0.,   0.,   0.,   0.,   0.,\n",
              "          0.,   0.,   0.,   0.,   0.,   0.],\n",
              "       [  0.,   0.,   0.,   0.,   0.,   0.,   0.,   0.,   0.,   0.,   0.,\n",
              "          0.,   0.,   0.,   0.,   0.,   0.,   0.,   0.,   0.,   0.,   0.,\n",
              "          0.,   0.,   0.,   0.,   0.,   0.],\n",
              "       [  0.,   0.,   0.,   0.,   0.,   0.,   0.,   0.,   0.,   0.,   0.,\n",
              "          0.,   0.,   0.,   0.,   0.,   0.,   0.,   0.,   0.,   0.,   0.,\n",
              "          0.,   0.,   0.,   0.,   0.,   0.],\n",
              "       [  0.,   0.,   0.,   0.,   0.,   0.,   0.,   0.,   0.,   0.,   0.,\n",
              "          0.,   0.,   0.,   0.,   0.,   0.,   0.,   0.,   0.,   0.,   0.,\n",
              "          0.,   0.,   0.,   0.,   0.,   0.],\n",
              "       [  0.,   0.,   0.,   0.,   0.,   0.,   0.,   0.,   0.,   0.,   0.,\n",
              "          0.,   3.,  18.,  18.,  18., 126., 136., 175.,  26., 166., 255.,\n",
              "        247., 127.,   0.,   0.,   0.,   0.],\n",
              "       [  0.,   0.,   0.,   0.,   0.,   0.,   0.,   0.,  30.,  36.,  94.,\n",
              "        154., 170., 253., 253., 253., 253., 253., 225., 172., 253., 242.,\n",
              "        195.,  64.,   0.,   0.,   0.,   0.],\n",
              "       [  0.,   0.,   0.,   0.,   0.,   0.,   0.,  49., 238., 253., 253.,\n",
              "        253., 253., 253., 253., 253., 253., 251.,  93.,  82.,  82.,  56.,\n",
              "         39.,   0.,   0.,   0.,   0.,   0.],\n",
              "       [  0.,   0.,   0.,   0.,   0.,   0.,   0.,  18., 219., 253., 253.,\n",
              "        253., 253., 253., 198., 182., 247., 241.,   0.,   0.,   0.,   0.,\n",
              "          0.,   0.,   0.,   0.,   0.,   0.],\n",
              "       [  0.,   0.,   0.,   0.,   0.,   0.,   0.,   0.,  80., 156., 107.,\n",
              "        253., 253., 205.,  11.,   0.,  43., 154.,   0.,   0.,   0.,   0.,\n",
              "          0.,   0.,   0.,   0.,   0.,   0.],\n",
              "       [  0.,   0.,   0.,   0.,   0.,   0.,   0.,   0.,   0.,  14.,   1.,\n",
              "        154., 253.,  90.,   0.,   0.,   0.,   0.,   0.,   0.,   0.,   0.,\n",
              "          0.,   0.,   0.,   0.,   0.,   0.],\n",
              "       [  0.,   0.,   0.,   0.,   0.,   0.,   0.,   0.,   0.,   0.,   0.,\n",
              "        139., 253., 190.,   2.,   0.,   0.,   0.,   0.,   0.,   0.,   0.,\n",
              "          0.,   0.,   0.,   0.,   0.,   0.],\n",
              "       [  0.,   0.,   0.,   0.,   0.,   0.,   0.,   0.,   0.,   0.,   0.,\n",
              "         11., 190., 253.,  70.,   0.,   0.,   0.,   0.,   0.,   0.,   0.,\n",
              "          0.,   0.,   0.,   0.,   0.,   0.],\n",
              "       [  0.,   0.,   0.,   0.,   0.,   0.,   0.,   0.,   0.,   0.,   0.,\n",
              "          0.,  35., 241., 225., 160., 108.,   1.,   0.,   0.,   0.,   0.,\n",
              "          0.,   0.,   0.,   0.,   0.,   0.],\n",
              "       [  0.,   0.,   0.,   0.,   0.,   0.,   0.,   0.,   0.,   0.,   0.,\n",
              "          0.,   0.,  81., 240., 253., 253., 119.,  25.,   0.,   0.,   0.,\n",
              "          0.,   0.,   0.,   0.,   0.,   0.],\n",
              "       [  0.,   0.,   0.,   0.,   0.,   0.,   0.,   0.,   0.,   0.,   0.,\n",
              "          0.,   0.,   0.,  45., 186., 253., 253., 150.,  27.,   0.,   0.,\n",
              "          0.,   0.,   0.,   0.,   0.,   0.],\n",
              "       [  0.,   0.,   0.,   0.,   0.,   0.,   0.,   0.,   0.,   0.,   0.,\n",
              "          0.,   0.,   0.,   0.,  16.,  93., 252., 253., 187.,   0.,   0.,\n",
              "          0.,   0.,   0.,   0.,   0.,   0.],\n",
              "       [  0.,   0.,   0.,   0.,   0.,   0.,   0.,   0.,   0.,   0.,   0.,\n",
              "          0.,   0.,   0.,   0.,   0.,   0., 249., 253., 249.,  64.,   0.,\n",
              "          0.,   0.,   0.,   0.,   0.,   0.],\n",
              "       [  0.,   0.,   0.,   0.,   0.,   0.,   0.,   0.,   0.,   0.,   0.,\n",
              "          0.,   0.,   0.,  46., 130., 183., 253., 253., 207.,   2.,   0.,\n",
              "          0.,   0.,   0.,   0.,   0.,   0.],\n",
              "       [  0.,   0.,   0.,   0.,   0.,   0.,   0.,   0.,   0.,   0.,   0.,\n",
              "          0.,  39., 148., 229., 253., 253., 253., 250., 182.,   0.,   0.,\n",
              "          0.,   0.,   0.,   0.,   0.,   0.],\n",
              "       [  0.,   0.,   0.,   0.,   0.,   0.,   0.,   0.,   0.,   0.,  24.,\n",
              "        114., 221., 253., 253., 253., 253., 201.,  78.,   0.,   0.,   0.,\n",
              "          0.,   0.,   0.,   0.,   0.,   0.],\n",
              "       [  0.,   0.,   0.,   0.,   0.,   0.,   0.,   0.,  23.,  66., 213.,\n",
              "        253., 253., 253., 253., 198.,  81.,   2.,   0.,   0.,   0.,   0.,\n",
              "          0.,   0.,   0.,   0.,   0.,   0.],\n",
              "       [  0.,   0.,   0.,   0.,   0.,   0.,  18., 171., 219., 253., 253.,\n",
              "        253., 253., 195.,  80.,   9.,   0.,   0.,   0.,   0.,   0.,   0.,\n",
              "          0.,   0.,   0.,   0.,   0.,   0.],\n",
              "       [  0.,   0.,   0.,   0.,  55., 172., 226., 253., 253., 253., 253.,\n",
              "        244., 133.,  11.,   0.,   0.,   0.,   0.,   0.,   0.,   0.,   0.,\n",
              "          0.,   0.,   0.,   0.,   0.,   0.],\n",
              "       [  0.,   0.,   0.,   0., 136., 253., 253., 253., 212., 135., 132.,\n",
              "         16.,   0.,   0.,   0.,   0.,   0.,   0.,   0.,   0.,   0.,   0.,\n",
              "          0.,   0.,   0.,   0.,   0.,   0.],\n",
              "       [  0.,   0.,   0.,   0.,   0.,   0.,   0.,   0.,   0.,   0.,   0.,\n",
              "          0.,   0.,   0.,   0.,   0.,   0.,   0.,   0.,   0.,   0.,   0.,\n",
              "          0.,   0.,   0.,   0.,   0.,   0.],\n",
              "       [  0.,   0.,   0.,   0.,   0.,   0.,   0.,   0.,   0.,   0.,   0.,\n",
              "          0.,   0.,   0.,   0.,   0.,   0.,   0.,   0.,   0.,   0.,   0.,\n",
              "          0.,   0.,   0.,   0.,   0.,   0.],\n",
              "       [  0.,   0.,   0.,   0.,   0.,   0.,   0.,   0.,   0.,   0.,   0.,\n",
              "          0.,   0.,   0.,   0.,   0.,   0.,   0.,   0.,   0.,   0.,   0.,\n",
              "          0.,   0.,   0.,   0.,   0.,   0.]], dtype=float32)"
            ]
          },
          "metadata": {
            "tags": []
          },
          "execution_count": 8
        }
      ]
    },
    {
      "cell_type": "code",
      "metadata": {
        "id": "Pw0VN5EqPHd3",
        "colab": {
          "base_uri": "https://localhost:8080/"
        },
        "outputId": "f377b96c-8ebc-41e9-d0fb-836895141b9e"
      },
      "source": [
        "y_train[0]"
      ],
      "execution_count": 9,
      "outputs": [
        {
          "output_type": "execute_result",
          "data": {
            "text/plain": [
              "5"
            ]
          },
          "metadata": {
            "tags": []
          },
          "execution_count": 9
        }
      ]
    },
    {
      "cell_type": "code",
      "metadata": {
        "id": "ZpFnbApPTTUS",
        "colab": {
          "base_uri": "https://localhost:8080/"
        },
        "outputId": "51bbf98c-343b-4c7a-e429-43516f2a7e4c"
      },
      "source": [
        "x_test.shape"
      ],
      "execution_count": 10,
      "outputs": [
        {
          "output_type": "execute_result",
          "data": {
            "text/plain": [
              "(10000, 28, 28)"
            ]
          },
          "metadata": {
            "tags": []
          },
          "execution_count": 10
        }
      ]
    },
    {
      "cell_type": "code",
      "metadata": {
        "id": "OXq_lIeNQ6LS",
        "colab": {
          "base_uri": "https://localhost:8080/"
        },
        "outputId": "7ec5133d-4b12-4951-fdc6-0f9a3841a61d"
      },
      "source": [
        "y_test"
      ],
      "execution_count": 11,
      "outputs": [
        {
          "output_type": "execute_result",
          "data": {
            "text/plain": [
              "array([7, 2, 1, ..., 4, 5, 6], dtype=uint8)"
            ]
          },
          "metadata": {
            "tags": []
          },
          "execution_count": 11
        }
      ]
    },
    {
      "cell_type": "markdown",
      "metadata": {
        "id": "1FmRVuCl8z58"
      },
      "source": [
        "01. O que o shape dessas arrays nos indicam sobre os dados? Ex: o que 60000 quer dizer e assim em diante.."
      ]
    },
    {
      "cell_type": "markdown",
      "metadata": {
        "id": "JrYSqzfF5w25"
      },
      "source": [
        "O primeiro é o número de imagens do dataset, o segundo e terceiro são as dimensões das imagens."
      ]
    },
    {
      "cell_type": "code",
      "metadata": {
        "id": "W4tpHwJE8ycY"
      },
      "source": [
        "#preprocessamento\n",
        "x_train /= 255\n",
        "x_test /= 255"
      ],
      "execution_count": 12,
      "outputs": []
    },
    {
      "cell_type": "code",
      "metadata": {
        "id": "Q6mdDy7PQlb1",
        "colab": {
          "base_uri": "https://localhost:8080/"
        },
        "outputId": "4aa1c634-e212-4f42-8f09-bffbd109baa6"
      },
      "source": [
        "x_train"
      ],
      "execution_count": 13,
      "outputs": [
        {
          "output_type": "execute_result",
          "data": {
            "text/plain": [
              "array([[[0., 0., 0., ..., 0., 0., 0.],\n",
              "        [0., 0., 0., ..., 0., 0., 0.],\n",
              "        [0., 0., 0., ..., 0., 0., 0.],\n",
              "        ...,\n",
              "        [0., 0., 0., ..., 0., 0., 0.],\n",
              "        [0., 0., 0., ..., 0., 0., 0.],\n",
              "        [0., 0., 0., ..., 0., 0., 0.]],\n",
              "\n",
              "       [[0., 0., 0., ..., 0., 0., 0.],\n",
              "        [0., 0., 0., ..., 0., 0., 0.],\n",
              "        [0., 0., 0., ..., 0., 0., 0.],\n",
              "        ...,\n",
              "        [0., 0., 0., ..., 0., 0., 0.],\n",
              "        [0., 0., 0., ..., 0., 0., 0.],\n",
              "        [0., 0., 0., ..., 0., 0., 0.]],\n",
              "\n",
              "       [[0., 0., 0., ..., 0., 0., 0.],\n",
              "        [0., 0., 0., ..., 0., 0., 0.],\n",
              "        [0., 0., 0., ..., 0., 0., 0.],\n",
              "        ...,\n",
              "        [0., 0., 0., ..., 0., 0., 0.],\n",
              "        [0., 0., 0., ..., 0., 0., 0.],\n",
              "        [0., 0., 0., ..., 0., 0., 0.]],\n",
              "\n",
              "       ...,\n",
              "\n",
              "       [[0., 0., 0., ..., 0., 0., 0.],\n",
              "        [0., 0., 0., ..., 0., 0., 0.],\n",
              "        [0., 0., 0., ..., 0., 0., 0.],\n",
              "        ...,\n",
              "        [0., 0., 0., ..., 0., 0., 0.],\n",
              "        [0., 0., 0., ..., 0., 0., 0.],\n",
              "        [0., 0., 0., ..., 0., 0., 0.]],\n",
              "\n",
              "       [[0., 0., 0., ..., 0., 0., 0.],\n",
              "        [0., 0., 0., ..., 0., 0., 0.],\n",
              "        [0., 0., 0., ..., 0., 0., 0.],\n",
              "        ...,\n",
              "        [0., 0., 0., ..., 0., 0., 0.],\n",
              "        [0., 0., 0., ..., 0., 0., 0.],\n",
              "        [0., 0., 0., ..., 0., 0., 0.]],\n",
              "\n",
              "       [[0., 0., 0., ..., 0., 0., 0.],\n",
              "        [0., 0., 0., ..., 0., 0., 0.],\n",
              "        [0., 0., 0., ..., 0., 0., 0.],\n",
              "        ...,\n",
              "        [0., 0., 0., ..., 0., 0., 0.],\n",
              "        [0., 0., 0., ..., 0., 0., 0.],\n",
              "        [0., 0., 0., ..., 0., 0., 0.]]], dtype=float32)"
            ]
          },
          "metadata": {
            "tags": []
          },
          "execution_count": 13
        }
      ]
    },
    {
      "cell_type": "markdown",
      "metadata": {
        "id": "glYCsU776KJf"
      },
      "source": [
        ""
      ]
    },
    {
      "cell_type": "markdown",
      "metadata": {
        "id": "PQSw91St93-8"
      },
      "source": [
        "02. Qual o objetivo desse preprocessamento? O que isso impacta no treinamento da rede?\n",
        "\n"
      ]
    },
    {
      "cell_type": "markdown",
      "metadata": {
        "id": "_Em-jnCm6Tbz"
      },
      "source": [
        "O preprocessamento serve para normalizar os dados em valores entre 0 e 1, para adequar eles a função de ativação"
      ]
    },
    {
      "cell_type": "code",
      "metadata": {
        "id": "7qiIqMxn5EAE"
      },
      "source": [
        "#categorizando label de saída (não obrigatório, mas a melhor prática) \n",
        "y_train = tf.keras.utils.to_categorical(y_train, num_classes)\n",
        "y_test = tf.keras.utils.to_categorical(y_test, num_classes)"
      ],
      "execution_count": 14,
      "outputs": []
    },
    {
      "cell_type": "code",
      "metadata": {
        "id": "gDvawLz7Sgck",
        "colab": {
          "base_uri": "https://localhost:8080/"
        },
        "outputId": "2d974f91-9276-4d8e-914e-2ecb2b7eeea8"
      },
      "source": [
        "y_test.shape"
      ],
      "execution_count": 15,
      "outputs": [
        {
          "output_type": "execute_result",
          "data": {
            "text/plain": [
              "(10000, 10)"
            ]
          },
          "metadata": {
            "tags": []
          },
          "execution_count": 15
        }
      ]
    },
    {
      "cell_type": "code",
      "metadata": {
        "id": "t1lWoT9LSqX-",
        "colab": {
          "base_uri": "https://localhost:8080/"
        },
        "outputId": "b7487379-65a5-43a2-df76-54e95dafcfe8"
      },
      "source": [
        "y_test[1]"
      ],
      "execution_count": 16,
      "outputs": [
        {
          "output_type": "execute_result",
          "data": {
            "text/plain": [
              "array([0., 0., 1., 0., 0., 0., 0., 0., 0., 0.], dtype=float32)"
            ]
          },
          "metadata": {
            "tags": []
          },
          "execution_count": 16
        }
      ]
    },
    {
      "cell_type": "markdown",
      "metadata": {
        "id": "m9jzf_7L_QPX"
      },
      "source": [
        "3. Copie o código abaixo, substituindo os 'x' pelo paramêtro correto. Cole na célula abaixo e execute o treinamento\n",
        "\n",
        "\n",
        "\n",
        "```\n",
        "model = Sequential()\n",
        "\n",
        "\n",
        "model.add(x(input_shape=(784,)))\n",
        "model.add(tf.keras.layers.Dense(256, input_dim=784, activation='relu'))\n",
        "model.add(tf.keras.layers.Dense(128, activation='relu'))\n",
        "model.add(tf.keras.layers.x(x, activation=x))\n",
        "\n",
        "\n",
        "model.compile(loss='x',\n",
        "            optimizer=x(1e-4),\n",
        "            metrics=['accuracy'])\n",
        "\n",
        "model.summary()\n",
        "\n",
        "\n",
        "# Treinamento do modelo \n",
        "history = model.fit(x_train, y_train,\n",
        "                  batch_size=batch_size,\n",
        "                  epochs=epochs,\n",
        "                  verbose=1,\n",
        "                  validation_data=(x, x))``````\n",
        "\n"
      ]
    },
    {
      "cell_type": "code",
      "metadata": {
        "id": "R3adg4R89hO8",
        "colab": {
          "base_uri": "https://localhost:8080/"
        },
        "outputId": "9a4f4174-1a70-4008-c704-876496cb39d6"
      },
      "source": [
        "model = Sequential()\n",
        " \n",
        "model.add(Flatten(input_shape=(28, 28))) #shape das imagens\n",
        "model.add(tf.keras.layers.Dense(256, activation='relu'))\n",
        "model.add(tf.keras.layers.Dense(128, activation='relu'))\n",
        "model.add(tf.keras.layers.Dense(num_classes, activation='softmax')) \n",
        " \n",
        "model.compile(loss='categorical_crossentropy', \n",
        "            optimizer=Adam(1e-4),\n",
        "            metrics=['accuracy'])\n",
        " \n",
        "model.summary()\n",
        " \n",
        "# Treinamento do modelo \n",
        "history = model.fit(x_train, y_train,\n",
        "                  batch_size=batch_size,\n",
        "                  epochs=epochs,\n",
        "                  verbose=1,\n",
        "                  validation_data=(x_test, y_test))"
      ],
      "execution_count": 17,
      "outputs": [
        {
          "output_type": "stream",
          "text": [
            "Model: \"sequential\"\n",
            "_________________________________________________________________\n",
            "Layer (type)                 Output Shape              Param #   \n",
            "=================================================================\n",
            "flatten (Flatten)            (None, 784)               0         \n",
            "_________________________________________________________________\n",
            "dense (Dense)                (None, 256)               200960    \n",
            "_________________________________________________________________\n",
            "dense_1 (Dense)              (None, 128)               32896     \n",
            "_________________________________________________________________\n",
            "dense_2 (Dense)              (None, 10)                1290      \n",
            "=================================================================\n",
            "Total params: 235,146\n",
            "Trainable params: 235,146\n",
            "Non-trainable params: 0\n",
            "_________________________________________________________________\n",
            "Epoch 1/10\n",
            "1875/1875 [==============================] - 8s 2ms/step - loss: 0.8589 - accuracy: 0.7690 - val_loss: 0.2287 - val_accuracy: 0.9364\n",
            "Epoch 2/10\n",
            "1875/1875 [==============================] - 4s 2ms/step - loss: 0.2125 - accuracy: 0.9397 - val_loss: 0.1628 - val_accuracy: 0.9521\n",
            "Epoch 3/10\n",
            "1875/1875 [==============================] - 4s 2ms/step - loss: 0.1574 - accuracy: 0.9554 - val_loss: 0.1357 - val_accuracy: 0.9597\n",
            "Epoch 4/10\n",
            "1875/1875 [==============================] - 4s 2ms/step - loss: 0.1220 - accuracy: 0.9657 - val_loss: 0.1167 - val_accuracy: 0.9658\n",
            "Epoch 5/10\n",
            "1875/1875 [==============================] - 4s 2ms/step - loss: 0.0981 - accuracy: 0.9723 - val_loss: 0.1005 - val_accuracy: 0.9699\n",
            "Epoch 6/10\n",
            "1875/1875 [==============================] - 4s 2ms/step - loss: 0.0797 - accuracy: 0.9776 - val_loss: 0.0946 - val_accuracy: 0.9704\n",
            "Epoch 7/10\n",
            "1875/1875 [==============================] - 4s 2ms/step - loss: 0.0718 - accuracy: 0.9798 - val_loss: 0.0881 - val_accuracy: 0.9728\n",
            "Epoch 8/10\n",
            "1875/1875 [==============================] - 4s 2ms/step - loss: 0.0616 - accuracy: 0.9829 - val_loss: 0.0784 - val_accuracy: 0.9770\n",
            "Epoch 9/10\n",
            "1875/1875 [==============================] - 4s 2ms/step - loss: 0.0511 - accuracy: 0.9861 - val_loss: 0.0796 - val_accuracy: 0.9750\n",
            "Epoch 10/10\n",
            "1875/1875 [==============================] - 4s 2ms/step - loss: 0.0460 - accuracy: 0.9871 - val_loss: 0.0726 - val_accuracy: 0.9790\n"
          ],
          "name": "stdout"
        }
      ]
    },
    {
      "cell_type": "markdown",
      "metadata": {
        "id": "VPzcQeB8BgEh"
      },
      "source": [
        "4. Como está o treinamento até agora? Está na hora de pararmos ou podemos treinar por mais épocas?"
      ]
    },
    {
      "cell_type": "markdown",
      "metadata": {
        "id": "1ovWBqNy32pq"
      },
      "source": [
        "Não há necessidade de treinar por mais épocas pois não houve ganho de performance notável com mais épocas."
      ]
    },
    {
      "cell_type": "markdown",
      "metadata": {
        "id": "FoDhNpAKC-zR"
      },
      "source": [
        "## Introdução a CNN\n",
        "\n"
      ]
    },
    {
      "cell_type": "code",
      "metadata": {
        "id": "M3n1yOJqIFWH"
      },
      "source": [
        "from tensorflow.keras import layers"
      ],
      "execution_count": 18,
      "outputs": []
    },
    {
      "cell_type": "code",
      "metadata": {
        "id": "OSQtLe92gWlC"
      },
      "source": [
        "#Parâmetros de treinamento\n",
        "batch_size = 32\n",
        "epochs = 10\n",
        "num_classes = 10\n",
        "num_filters_1 = 64\n",
        "num_filters_2 = 32\n",
        "num_filters_3 = 32\n",
        "kernel_size = (3,3)\n",
        "pool_size = (3,3)\n",
        "activation = \"relu\"\n"
      ],
      "execution_count": 19,
      "outputs": []
    },
    {
      "cell_type": "code",
      "metadata": {
        "id": "DKaEdpvPhtoy"
      },
      "source": [
        "def load_data_and_preprocess():\n",
        "  (X_train, y_train), (X_test, y_test) = mnist.load_data()\n",
        "  X_train = X_train.astype('float32')\n",
        "  X_test = X_test.astype('float32')\n",
        "  X_train /= 255\n",
        "  X_test /= 255\n",
        "\n",
        "  X_train = np.expand_dims(X_train, axis=-1) #Adicionando um canal a nossa imagem (28,28,1)\n",
        "  X_test = np.expand_dims(X_test, axis=-1)\n",
        "\n",
        "  #categorizando label de saída (não obrigatório, mas a melhor prática) \n",
        "  y_train = tf.keras.utils.to_categorical(y_train, num_classes)\n",
        "  y_test = tf.keras.utils.to_categorical(y_test, num_classes)\n",
        "\n",
        "  return X_train, y_train, X_test, y_test\n",
        "\n"
      ],
      "execution_count": 20,
      "outputs": []
    },
    {
      "cell_type": "code",
      "metadata": {
        "id": "z-IDw1_0Hck_"
      },
      "source": [
        "def build_model():\n",
        "\n",
        "  inputs = layers.Input(shape=(28, 28, 1))\n",
        "  inputs_2 = layers.Input(shape=(30,30,1))\n",
        "\n",
        "  x = layers.Conv2D(filters=num_filters_1, kernel_size=kernel_size, activation=activation)(inputs)\n",
        "  x = layers.MaxPooling2D(pool_size=pool_size)(x)\n",
        "  x = layers.Conv2D(filters=num_filters_2, kernel_size=kernel_size, activation=activation)(x)\n",
        "\n",
        "  #x = layers.MaxPooling2D(pool_size=pool_size)(x)\n",
        "  #x = layers.Conv2D(filters=num_filters_3, kernel_size=kernel_size, activation=activation)(x)\n",
        "  #x = layers.MaxPooling2D(pool_size=pool_size)(x)\n",
        "\n",
        "  x = layers.Flatten()(x)\n",
        "\n",
        "  outputs = layers.Dense(num_classes, activation=\"softmax\")(x)\n",
        "  model = tf.keras.Model(inputs=inputs, outputs=outputs)\n",
        "\n",
        "  model.compile(optimizer=Adam(learning_rate=2e-4), loss=\"categorical_crossentropy\", metrics=['accuracy'])\n",
        "  return model\n"
      ],
      "execution_count": 21,
      "outputs": []
    },
    {
      "cell_type": "code",
      "metadata": {
        "id": "Iu67G4DTPvru"
      },
      "source": [
        "X_train, y_train, X_test, y_test = load_data_and_preprocess()"
      ],
      "execution_count": 22,
      "outputs": []
    },
    {
      "cell_type": "code",
      "metadata": {
        "id": "3fdzFspZmyMm",
        "colab": {
          "base_uri": "https://localhost:8080/"
        },
        "outputId": "51303d86-7d25-496e-ebb6-ac6dd4e38dc6"
      },
      "source": [
        "X_train.shape"
      ],
      "execution_count": 23,
      "outputs": [
        {
          "output_type": "execute_result",
          "data": {
            "text/plain": [
              "(60000, 28, 28, 1)"
            ]
          },
          "metadata": {
            "tags": []
          },
          "execution_count": 23
        }
      ]
    },
    {
      "cell_type": "code",
      "metadata": {
        "id": "PfVHkEokJbcx"
      },
      "source": [
        "def training(model, x_train, y_train, x_test, y_test):\n",
        "  history = model.fit(x_train, y_train,\n",
        "                  batch_size=batch_size,\n",
        "                  epochs=epochs,\n",
        "                  verbose=1,\n",
        "                  validation_data=(x_test, y_test))\n",
        "  return history"
      ],
      "execution_count": 24,
      "outputs": []
    },
    {
      "cell_type": "code",
      "metadata": {
        "id": "X_Q35-_xFs5X"
      },
      "source": [
        "X_train, y_train, X_test, y_test = load_data_and_preprocess()"
      ],
      "execution_count": 25,
      "outputs": []
    },
    {
      "cell_type": "code",
      "metadata": {
        "id": "ztqHVXooJ4ls"
      },
      "source": [
        "model = build_model()"
      ],
      "execution_count": 26,
      "outputs": []
    },
    {
      "cell_type": "code",
      "metadata": {
        "id": "SlSCkKapJ8-J",
        "colab": {
          "base_uri": "https://localhost:8080/"
        },
        "outputId": "bf703a11-9aca-495d-df47-548b9a959df0"
      },
      "source": [
        "model.summary()"
      ],
      "execution_count": 27,
      "outputs": [
        {
          "output_type": "stream",
          "text": [
            "Model: \"model\"\n",
            "_________________________________________________________________\n",
            "Layer (type)                 Output Shape              Param #   \n",
            "=================================================================\n",
            "input_1 (InputLayer)         [(None, 28, 28, 1)]       0         \n",
            "_________________________________________________________________\n",
            "conv2d (Conv2D)              (None, 26, 26, 64)        640       \n",
            "_________________________________________________________________\n",
            "max_pooling2d (MaxPooling2D) (None, 8, 8, 64)          0         \n",
            "_________________________________________________________________\n",
            "conv2d_1 (Conv2D)            (None, 6, 6, 32)          18464     \n",
            "_________________________________________________________________\n",
            "flatten_1 (Flatten)          (None, 1152)              0         \n",
            "_________________________________________________________________\n",
            "dense_3 (Dense)              (None, 10)                11530     \n",
            "=================================================================\n",
            "Total params: 30,634\n",
            "Trainable params: 30,634\n",
            "Non-trainable params: 0\n",
            "_________________________________________________________________\n"
          ],
          "name": "stdout"
        }
      ]
    },
    {
      "cell_type": "code",
      "metadata": {
        "id": "igzGnXflMhoh",
        "colab": {
          "base_uri": "https://localhost:8080/"
        },
        "outputId": "af279850-e28a-47c9-8cdf-f29c7bef0a15"
      },
      "source": [
        "h = training(model, X_train, y_train, X_test, y_test)"
      ],
      "execution_count": 28,
      "outputs": [
        {
          "output_type": "stream",
          "text": [
            "Epoch 1/10\n",
            "1875/1875 [==============================] - 35s 3ms/step - loss: 0.7794 - accuracy: 0.7885 - val_loss: 0.1467 - val_accuracy: 0.9594\n",
            "Epoch 2/10\n",
            "1875/1875 [==============================] - 5s 3ms/step - loss: 0.1390 - accuracy: 0.9599 - val_loss: 0.0855 - val_accuracy: 0.9743\n",
            "Epoch 3/10\n",
            "1875/1875 [==============================] - 5s 3ms/step - loss: 0.0915 - accuracy: 0.9736 - val_loss: 0.0610 - val_accuracy: 0.9810\n",
            "Epoch 4/10\n",
            "1875/1875 [==============================] - 5s 3ms/step - loss: 0.0728 - accuracy: 0.9784 - val_loss: 0.0523 - val_accuracy: 0.9832\n",
            "Epoch 5/10\n",
            "1875/1875 [==============================] - 5s 3ms/step - loss: 0.0587 - accuracy: 0.9827 - val_loss: 0.0492 - val_accuracy: 0.9837\n",
            "Epoch 6/10\n",
            "1875/1875 [==============================] - 5s 3ms/step - loss: 0.0525 - accuracy: 0.9839 - val_loss: 0.0430 - val_accuracy: 0.9862\n",
            "Epoch 7/10\n",
            "1875/1875 [==============================] - 5s 3ms/step - loss: 0.0449 - accuracy: 0.9863 - val_loss: 0.0453 - val_accuracy: 0.9847\n",
            "Epoch 8/10\n",
            "1875/1875 [==============================] - 5s 3ms/step - loss: 0.0417 - accuracy: 0.9876 - val_loss: 0.0394 - val_accuracy: 0.9863\n",
            "Epoch 9/10\n",
            "1875/1875 [==============================] - 5s 3ms/step - loss: 0.0364 - accuracy: 0.9894 - val_loss: 0.0370 - val_accuracy: 0.9869\n",
            "Epoch 10/10\n",
            "1875/1875 [==============================] - 5s 3ms/step - loss: 0.0361 - accuracy: 0.9895 - val_loss: 0.0343 - val_accuracy: 0.9877\n"
          ],
          "name": "stdout"
        }
      ]
    },
    {
      "cell_type": "markdown",
      "metadata": {
        "id": "52sA4qNZOjO2"
      },
      "source": [
        "1. Compare as primeiras 10 épocas desse treinamento com o da rede MLP. O que você consegue concluir sobre a performance? Por que?\n",
        "\n",
        "\n",
        "\n"
      ]
    },
    {
      "cell_type": "markdown",
      "metadata": {
        "id": "oQYHtWZ93_Ju"
      },
      "source": [
        "A acurácia foi um pouco maior e o loss foi um pouco menor ao longo do treinamento CNN, em comparação ao MLP."
      ]
    },
    {
      "cell_type": "markdown",
      "metadata": {
        "id": "WWDInjcGPe9u"
      },
      "source": [
        "2. Na função **build_model()**, adicione mais uma camada Conv2d e mais outra MaxPool e tente executar o treinamento. Foi possível? Explique o porquê."
      ]
    },
    {
      "cell_type": "markdown",
      "metadata": {
        "id": "PAE4a3_54BoP"
      },
      "source": [
        "Não foi possível, pois as dimensões das camadas ficaram de tamanhos diferentes."
      ]
    },
    {
      "cell_type": "markdown",
      "metadata": {
        "id": "561qVaiSREzp"
      },
      "source": [
        "3. Baseado no seguinte summary, construa mesma arquitetura e execute o treinamento.\n",
        "\n",
        "Model: \"model_5\"\n",
        "_________________________________________________________________\n",
        "Layer (type)                 Output Shape              Param #   \n",
        "\n",
        "input_10 (InputLayer)        [(None, 28, 28, 1)]       0         \n",
        "_________________________________________________________________\n",
        "conv2d_20 (Conv2D)           (None, 26, 26, 128)       1280      \n",
        "_________________________________________________________________\n",
        "conv2d_21 (Conv2D)           (None, 24, 24, 64)        73792     \n",
        "_________________________________________________________________\n",
        "max_pooling2d_8 (MaxPooling2 (None, 8, 8, 64)          0         \n",
        "_________________________________________________________________\n",
        "conv2d_22 (Conv2D)           (None, 6, 6, 32)          18464     \n",
        "_________________________________________________________________\n",
        "flatten_18 (Flatten)         (None, 1152)              0         \n",
        "_________________________________________________________________\n",
        "dense_42 (Dense)             (None, 10)                11530  \n",
        "   \n",
        "Total params: 105,066\n",
        "Trainable params: 105,066\n",
        "Non-trainable params: 0"
      ]
    },
    {
      "cell_type": "code",
      "metadata": {
        "id": "jvro7iHZ0iCG"
      },
      "source": [
        "def build_model():\n",
        "    inputs = layers.Input(shape=(28, 28, 1))\n",
        "\n",
        "    x = layers.Conv2D(filters=128, kernel_size=kernel_size, activation=activation)(inputs)\n",
        "    x = layers.Conv2D(filters=num_filters_1, kernel_size=kernel_size, activation=activation)(x)\n",
        "    x = layers.MaxPooling2D(pool_size=pool_size)(x)\n",
        "    x = layers.Conv2D(filters=num_filters_2, kernel_size=kernel_size, activation=activation)(x)\n",
        "    x = layers.Flatten()(x)\n",
        "    outputs = layers.Dense(num_classes, activation=\"softmax\")(x)\n",
        "    model = tf.keras.Model(inputs=inputs, outputs=outputs)\n",
        "\n",
        "    model.compile(optimizer=Adam(learning_rate=2e-4), loss=\"categorical_crossentropy\", metrics=['accuracy'])\n",
        "    return model"
      ],
      "execution_count": 29,
      "outputs": []
    },
    {
      "cell_type": "code",
      "metadata": {
        "id": "_PesOXExvMDq"
      },
      "source": [
        "model = build_model()"
      ],
      "execution_count": 30,
      "outputs": []
    },
    {
      "cell_type": "code",
      "metadata": {
        "id": "Q6dVSUJEZaRa",
        "colab": {
          "base_uri": "https://localhost:8080/"
        },
        "outputId": "1ef1d9f9-a5a3-4f28-ac4e-767eb7e10ad1"
      },
      "source": [
        "model.summary()"
      ],
      "execution_count": 31,
      "outputs": [
        {
          "output_type": "stream",
          "text": [
            "Model: \"model_1\"\n",
            "_________________________________________________________________\n",
            "Layer (type)                 Output Shape              Param #   \n",
            "=================================================================\n",
            "input_3 (InputLayer)         [(None, 28, 28, 1)]       0         \n",
            "_________________________________________________________________\n",
            "conv2d_2 (Conv2D)            (None, 26, 26, 128)       1280      \n",
            "_________________________________________________________________\n",
            "conv2d_3 (Conv2D)            (None, 24, 24, 64)        73792     \n",
            "_________________________________________________________________\n",
            "max_pooling2d_1 (MaxPooling2 (None, 8, 8, 64)          0         \n",
            "_________________________________________________________________\n",
            "conv2d_4 (Conv2D)            (None, 6, 6, 32)          18464     \n",
            "_________________________________________________________________\n",
            "flatten_2 (Flatten)          (None, 1152)              0         \n",
            "_________________________________________________________________\n",
            "dense_4 (Dense)              (None, 10)                11530     \n",
            "=================================================================\n",
            "Total params: 105,066\n",
            "Trainable params: 105,066\n",
            "Non-trainable params: 0\n",
            "_________________________________________________________________\n"
          ],
          "name": "stdout"
        }
      ]
    },
    {
      "cell_type": "code",
      "metadata": {
        "id": "toDTL7dIzORm"
      },
      "source": [
        "X_train, y_train, X_test, y_test = load_data_and_preprocess()"
      ],
      "execution_count": 32,
      "outputs": []
    },
    {
      "cell_type": "code",
      "metadata": {
        "id": "XVcaPlD3zROp",
        "colab": {
          "base_uri": "https://localhost:8080/"
        },
        "outputId": "2f17b240-d133-4995-83a1-35b15802d47e"
      },
      "source": [
        "h = training(model, X_train, y_train, X_test, y_test)"
      ],
      "execution_count": 33,
      "outputs": [
        {
          "output_type": "stream",
          "text": [
            "Epoch 1/10\n",
            "1875/1875 [==============================] - 10s 5ms/step - loss: 0.5571 - accuracy: 0.8315 - val_loss: 0.0817 - val_accuracy: 0.9741\n",
            "Epoch 2/10\n",
            "1875/1875 [==============================] - 9s 5ms/step - loss: 0.0807 - accuracy: 0.9756 - val_loss: 0.0705 - val_accuracy: 0.9773\n",
            "Epoch 3/10\n",
            "1875/1875 [==============================] - 9s 5ms/step - loss: 0.0524 - accuracy: 0.9843 - val_loss: 0.0378 - val_accuracy: 0.9880\n",
            "Epoch 4/10\n",
            "1875/1875 [==============================] - 9s 5ms/step - loss: 0.0394 - accuracy: 0.9882 - val_loss: 0.0332 - val_accuracy: 0.9900\n",
            "Epoch 5/10\n",
            "1875/1875 [==============================] - 9s 5ms/step - loss: 0.0312 - accuracy: 0.9906 - val_loss: 0.0333 - val_accuracy: 0.9897\n",
            "Epoch 6/10\n",
            "1875/1875 [==============================] - 9s 5ms/step - loss: 0.0250 - accuracy: 0.9923 - val_loss: 0.0282 - val_accuracy: 0.9910\n",
            "Epoch 7/10\n",
            "1875/1875 [==============================] - 9s 5ms/step - loss: 0.0211 - accuracy: 0.9931 - val_loss: 0.0308 - val_accuracy: 0.9910\n",
            "Epoch 8/10\n",
            "1875/1875 [==============================] - 9s 5ms/step - loss: 0.0179 - accuracy: 0.9939 - val_loss: 0.0277 - val_accuracy: 0.9918\n",
            "Epoch 9/10\n",
            "1875/1875 [==============================] - 9s 5ms/step - loss: 0.0146 - accuracy: 0.9955 - val_loss: 0.0269 - val_accuracy: 0.9914\n",
            "Epoch 10/10\n",
            "1875/1875 [==============================] - 9s 5ms/step - loss: 0.0127 - accuracy: 0.9958 - val_loss: 0.0279 - val_accuracy: 0.9923\n"
          ],
          "name": "stdout"
        }
      ]
    },
    {
      "cell_type": "markdown",
      "metadata": {
        "id": "suIBf967Rvul"
      },
      "source": [
        "4. Compare as primeiras 10 épocas desse treinamento com o da rede CNN anterior. O que você consegue concluir sobre a performance? Por que?"
      ]
    },
    {
      "cell_type": "markdown",
      "metadata": {
        "id": "Sl9xj6sa23G1"
      },
      "source": [
        "A performance caiu um pouco, mas a acurácia foi melhor, pois como foram adicionadas mais camadas, aumentou a quantidade de features também, melhorando a precisão do modelo."
      ]
    },
    {
      "cell_type": "markdown",
      "metadata": {
        "id": "gY2DvpbmoIV9"
      },
      "source": [
        "5. Crie seu próprio modelo agora. Adicione camadas como desejar e altere os valores de treinamento."
      ]
    },
    {
      "cell_type": "code",
      "metadata": {
        "id": "4jvGeiHO4e51"
      },
      "source": [
        "batch_size = 64\n",
        "epochs = 8\n",
        "num_classes = 10\n",
        "\n",
        "def build_model():\n",
        "    inputs = layers.Input(shape=(28, 28, 1))\n",
        "\n",
        "    x = layers.Conv2D(filters=128, kernel_size=kernel_size, activation=activation)(inputs)\n",
        "    x = layers.Conv2D(filters=num_filters_1, kernel_size=kernel_size, activation=activation)(x)\n",
        "    x = layers.Conv2D(filters=num_filters_2, kernel_size=kernel_size, activation=activation)(x)\n",
        "    x = layers.Conv2D(filters=16, kernel_size=kernel_size, activation=activation)(x)\n",
        "    x = layers.Flatten()(x)\n",
        "\n",
        "    outputs = layers.Dense(num_classes, activation=\"softmax\")(x)\n",
        "    model = tf.keras.Model(inputs=inputs, outputs=outputs)\n",
        "\n",
        "    model.compile(optimizer=RMSprop(learning_rate=2e-4), loss=\"categorical_crossentropy\", metrics=['accuracy'])\n",
        "    return model"
      ],
      "execution_count": 34,
      "outputs": []
    },
    {
      "cell_type": "code",
      "metadata": {
        "id": "GzCzFyhVoef9",
        "colab": {
          "base_uri": "https://localhost:8080/"
        },
        "outputId": "b3c82cc2-1e2b-4fe7-a41d-b0a8f7de68d9"
      },
      "source": [
        "model = build_model()\n",
        "model.summary()"
      ],
      "execution_count": 35,
      "outputs": [
        {
          "output_type": "stream",
          "text": [
            "Model: \"model_2\"\n",
            "_________________________________________________________________\n",
            "Layer (type)                 Output Shape              Param #   \n",
            "=================================================================\n",
            "input_4 (InputLayer)         [(None, 28, 28, 1)]       0         \n",
            "_________________________________________________________________\n",
            "conv2d_5 (Conv2D)            (None, 26, 26, 128)       1280      \n",
            "_________________________________________________________________\n",
            "conv2d_6 (Conv2D)            (None, 24, 24, 64)        73792     \n",
            "_________________________________________________________________\n",
            "conv2d_7 (Conv2D)            (None, 22, 22, 32)        18464     \n",
            "_________________________________________________________________\n",
            "conv2d_8 (Conv2D)            (None, 20, 20, 16)        4624      \n",
            "_________________________________________________________________\n",
            "flatten_3 (Flatten)          (None, 6400)              0         \n",
            "_________________________________________________________________\n",
            "dense_5 (Dense)              (None, 10)                64010     \n",
            "=================================================================\n",
            "Total params: 162,170\n",
            "Trainable params: 162,170\n",
            "Non-trainable params: 0\n",
            "_________________________________________________________________\n"
          ],
          "name": "stdout"
        }
      ]
    },
    {
      "cell_type": "code",
      "metadata": {
        "id": "i64THeNl4kzb"
      },
      "source": [
        "X_train, y_train, X_test, y_test = load_data_and_preprocess()"
      ],
      "execution_count": 36,
      "outputs": []
    },
    {
      "cell_type": "code",
      "metadata": {
        "id": "eiaf5vQe4mne",
        "colab": {
          "base_uri": "https://localhost:8080/"
        },
        "outputId": "34807c6a-0252-4cfc-d14e-4a8c85023f81"
      },
      "source": [
        "h = training(model, X_train, y_train, X_test, y_test)"
      ],
      "execution_count": 37,
      "outputs": [
        {
          "output_type": "stream",
          "text": [
            "Epoch 1/8\n",
            "938/938 [==============================] - 10s 10ms/step - loss: 0.4430 - accuracy: 0.8685 - val_loss: 0.0829 - val_accuracy: 0.9745\n",
            "Epoch 2/8\n",
            "938/938 [==============================] - 9s 10ms/step - loss: 0.0803 - accuracy: 0.9762 - val_loss: 0.0544 - val_accuracy: 0.9833\n",
            "Epoch 3/8\n",
            "938/938 [==============================] - 9s 10ms/step - loss: 0.0569 - accuracy: 0.9827 - val_loss: 0.0425 - val_accuracy: 0.9858\n",
            "Epoch 4/8\n",
            "938/938 [==============================] - 9s 10ms/step - loss: 0.0464 - accuracy: 0.9874 - val_loss: 0.0381 - val_accuracy: 0.9881\n",
            "Epoch 5/8\n",
            "938/938 [==============================] - 9s 10ms/step - loss: 0.0371 - accuracy: 0.9890 - val_loss: 0.0359 - val_accuracy: 0.9884\n",
            "Epoch 6/8\n",
            "938/938 [==============================] - 9s 10ms/step - loss: 0.0326 - accuracy: 0.9902 - val_loss: 0.0340 - val_accuracy: 0.9885\n",
            "Epoch 7/8\n",
            "938/938 [==============================] - 9s 10ms/step - loss: 0.0290 - accuracy: 0.9915 - val_loss: 0.0333 - val_accuracy: 0.9890\n",
            "Epoch 8/8\n",
            "938/938 [==============================] - 9s 10ms/step - loss: 0.0293 - accuracy: 0.9913 - val_loss: 0.0313 - val_accuracy: 0.9904\n"
          ],
          "name": "stdout"
        }
      ]
    }
  ]
}