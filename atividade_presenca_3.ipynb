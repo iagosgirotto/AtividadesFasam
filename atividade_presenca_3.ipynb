{
 "metadata": {
  "language_info": {
   "codemirror_mode": {
    "name": "ipython",
    "version": 3
   },
   "file_extension": ".py",
   "mimetype": "text/x-python",
   "name": "python",
   "nbconvert_exporter": "python",
   "pygments_lexer": "ipython3",
   "version": "3.7.6-final"
  },
  "orig_nbformat": 2,
  "kernelspec": {
   "name": "python3",
   "display_name": "Python 3.7.6 64-bit (conda)",
   "metadata": {
    "interpreter": {
     "hash": "4980b6b58d45be1f76fdcad349a71241a11e0eb1c1a544c4bc09b4f1a87a9963"
    }
   }
  }
 },
 "nbformat": 4,
 "nbformat_minor": 2,
 "cells": [
  {
   "cell_type": "code",
   "execution_count": 2,
   "metadata": {},
   "outputs": [],
   "source": [
    "import pandas as pd\n",
    "from sklearn.ensemble import RandomForestClassifier\n",
    "from sklearn.model_selection import train_test_split\n",
    "from sklearn import metrics\n",
    "from sklearn.svm import LinearSVC\n",
    "from sklearn.linear_model import LogisticRegression\n",
    "from sklearn.preprocessing import StandardScaler\n",
    "from sklearn.naive_bayes import GaussianNB\n",
    "from sklearn.pipeline import make_pipeline\n",
    "from sklearn.ensemble import StackingClassifier, VotingClassifier, AdaBoostClassifier\n",
    "\n",
    "dados = pd.read_csv(\"diabetes.csv\")"
   ]
  },
  {
   "cell_type": "code",
   "execution_count": 3,
   "metadata": {},
   "outputs": [],
   "source": [
    "feature_cols = ['pregnant', 'insulin', 'bmi', 'age', 'glucose', 'bp', 'pedigree']\n",
    "X = dados[feature_cols]\n",
    "y = dados.label"
   ]
  },
  {
   "cell_type": "code",
   "execution_count": 4,
   "metadata": {},
   "outputs": [],
   "source": [
    "#RandomForestClassifier\n",
    "clfRFC = RandomForestClassifier(n_estimators= 10, random_state=42)\n",
    "\n",
    "X_train, X_test, y_train, y_test = train_test_split(X, y, stratify=y, random_state= 42)\n",
    "\n",
    "clfRFC.fit(X_train, y_train).score(X_test, y_test)\n",
    "y_predRFC = clfRFC.predict(X_test)"
   ]
  },
  {
   "cell_type": "code",
   "execution_count": 5,
   "metadata": {},
   "outputs": [
    {
     "output_type": "stream",
     "name": "stderr",
     "text": [
      "C:\\Users\\Iago_\\anaconda3\\lib\\site-packages\\sklearn\\svm\\_base.py:947: ConvergenceWarning: Liblinear failed to converge, increase the number of iterations.\n",
      "  \"the number of iterations.\", ConvergenceWarning)\n",
      "C:\\Users\\Iago_\\anaconda3\\lib\\site-packages\\sklearn\\svm\\_base.py:947: ConvergenceWarning: Liblinear failed to converge, increase the number of iterations.\n",
      "  \"the number of iterations.\", ConvergenceWarning)\n",
      "C:\\Users\\Iago_\\anaconda3\\lib\\site-packages\\sklearn\\svm\\_base.py:947: ConvergenceWarning: Liblinear failed to converge, increase the number of iterations.\n",
      "  \"the number of iterations.\", ConvergenceWarning)\n",
      "C:\\Users\\Iago_\\anaconda3\\lib\\site-packages\\sklearn\\svm\\_base.py:947: ConvergenceWarning: Liblinear failed to converge, increase the number of iterations.\n",
      "  \"the number of iterations.\", ConvergenceWarning)\n",
      "C:\\Users\\Iago_\\anaconda3\\lib\\site-packages\\sklearn\\svm\\_base.py:947: ConvergenceWarning: Liblinear failed to converge, increase the number of iterations.\n",
      "  \"the number of iterations.\", ConvergenceWarning)\n"
     ]
    }
   ],
   "source": [
    "#StackingClassifier\n",
    "estimators = [('rf', RandomForestClassifier(n_estimators= 10, random_state= 42)), ('svr', make_pipeline(StandardScaler(), LinearSVC(random_state= 42)))]\n",
    "\n",
    "clfSC = StackingClassifier(estimators=estimators, final_estimator=LogisticRegression())\n",
    "clfSC.fit(X_train, y_train).score(X_test, y_test)\n",
    "y_predSC = clfSC.predict(X_test)\n"
   ]
  },
  {
   "cell_type": "code",
   "execution_count": 6,
   "metadata": {},
   "outputs": [],
   "source": [
    "#VotingClassifier\n",
    "clf1 = LogisticRegression(multi_class= 'multinomial', random_state= 1)\n",
    "clf2 = RandomForestClassifier(n_estimators= 50, random_state= 1)\n",
    "clf3 = GaussianNB()\n",
    "\n",
    "eclf1 = VotingClassifier(estimators=[('lr', clf1), ('rf', clf2), ('gnb', clf3)], voting='hard')\n",
    "eclf1 = eclf1.fit(X, y)\n",
    "y_predVC = eclf1.predict(X_test)"
   ]
  },
  {
   "cell_type": "code",
   "execution_count": 7,
   "metadata": {},
   "outputs": [],
   "source": [
    "#AdaBoostClassifier\n",
    "clfABC = AdaBoostClassifier(n_estimators= 1000, random_state= 0)\n",
    "clfABC.fit(X_train, y_train).score(X_test, y_test)\n",
    "y_predABC = clfABC.predict(X_test)"
   ]
  },
  {
   "cell_type": "code",
   "execution_count": 8,
   "metadata": {},
   "outputs": [
    {
     "output_type": "stream",
     "name": "stdout",
     "text": [
      "Accuracy RandomForestClassifier:  0.7552083333333334\nAccuracy StackingClassifier:  0.7552083333333334\nAccuracy VotingClassifier:  0.7916666666666666\nAccuracy AdaBoostClassifier:  0.734375\n\nConfusionMatrix RandomForestClassifier:\n [[110  15]\n [ 32  35]]\n\nConfusionMatrix StackingClassifier:\n [[109  16]\n [ 31  36]]\n\nConfusionMatrix VotingClassifier:\n [[108  17]\n [ 23  44]]\n\nConfusionMatrix AdaBoostClassifier:\n [[104  21]\n [ 30  37]]\n"
     ]
    }
   ],
   "source": [
    "print(\"Accuracy RandomForestClassifier: \", metrics.accuracy_score(y_test, y_predRFC))\n",
    "print(\"Accuracy StackingClassifier: \", metrics.accuracy_score(y_test, y_predSC))\n",
    "print(\"Accuracy VotingClassifier: \", metrics.accuracy_score(y_test, y_predVC))\n",
    "print(\"Accuracy AdaBoostClassifier: \", metrics.accuracy_score(y_test, y_predABC))\n",
    "\n",
    "print(\"\\nConfusionMatrix RandomForestClassifier:\\n\", metrics.confusion_matrix(y_test, y_predRFC))\n",
    "print(\"\\nConfusionMatrix StackingClassifier:\\n\", metrics.confusion_matrix(y_test, y_predSC))\n",
    "print(\"\\nConfusionMatrix VotingClassifier:\\n\", metrics.confusion_matrix(y_test, y_predVC))\n",
    "print(\"\\nConfusionMatrix AdaBoostClassifier:\\n\", metrics.confusion_matrix(y_test, y_predABC))\n",
    "\n",
    "#Foi visto com base nos resultados que dos métodos analisados, o VotingClassifier foi o melhor para melhorar a acurácia e para ajuste da Matriz de Confusão"
   ]
  }
 ]
}